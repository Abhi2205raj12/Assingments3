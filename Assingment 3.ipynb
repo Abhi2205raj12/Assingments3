{
 "cells": [
  {
   "cell_type": "markdown",
   "id": "0693ddfe-90f3-4ea5-973d-3714ed6559f2",
   "metadata": {},
   "source": [
    "# Python List Assingment"
   ]
  },
  {
   "cell_type": "markdown",
   "id": "b66da041-ae76-4393-93c2-14247f8a347a",
   "metadata": {},
   "source": [
    "# Ques 1: Create an empty list."
   ]
  },
  {
   "cell_type": "markdown",
   "id": "ce32c99b-7f86-44b3-bd76-5cebefdc944b",
   "metadata": {},
   "source": [
    "Answer:"
   ]
  },
  {
   "cell_type": "code",
   "execution_count": 3,
   "id": "107105f1-978c-4c32-a844-8fd6ed29e869",
   "metadata": {},
   "outputs": [],
   "source": [
    "My_list =[]"
   ]
  },
  {
   "cell_type": "code",
   "execution_count": 4,
   "id": "07d84f6b-5f78-4e24-9742-f600934a7b78",
   "metadata": {},
   "outputs": [
    {
     "data": {
      "text/plain": [
       "[]"
      ]
     },
     "execution_count": 4,
     "metadata": {},
     "output_type": "execute_result"
    }
   ],
   "source": [
    "My_list"
   ]
  },
  {
   "cell_type": "markdown",
   "id": "6213a9fb-56aa-4641-9323-2aa20c90d76c",
   "metadata": {},
   "source": [
    "# Ques 2: Create a list and add an element to the end of this list."
   ]
  },
  {
   "cell_type": "markdown",
   "id": "4d12652e-51cd-4156-96b2-0d741cecae7e",
   "metadata": {},
   "source": [
    "Answer:"
   ]
  },
  {
   "cell_type": "code",
   "execution_count": 5,
   "id": "92ff20b0-2473-4e71-ad56-3ca33d29f22c",
   "metadata": {},
   "outputs": [],
   "source": [
    "list =[ 2 , 3, 4, 78]"
   ]
  },
  {
   "cell_type": "code",
   "execution_count": 6,
   "id": "d584a612-e1ae-4c82-994e-4f622817babb",
   "metadata": {},
   "outputs": [
    {
     "data": {
      "text/plain": [
       "[2, 3, 4, 78]"
      ]
     },
     "execution_count": 6,
     "metadata": {},
     "output_type": "execute_result"
    }
   ],
   "source": [
    "list"
   ]
  },
  {
   "cell_type": "code",
   "execution_count": 7,
   "id": "a795b8b2-fde8-40bc-bed8-9aab424cd25f",
   "metadata": {},
   "outputs": [],
   "source": [
    "list.append(45)"
   ]
  },
  {
   "cell_type": "code",
   "execution_count": 8,
   "id": "c5601fde-dc7f-402a-8fcb-1d21020a93db",
   "metadata": {},
   "outputs": [
    {
     "data": {
      "text/plain": [
       "[2, 3, 4, 78, 45]"
      ]
     },
     "execution_count": 8,
     "metadata": {},
     "output_type": "execute_result"
    }
   ],
   "source": [
    "list"
   ]
  },
  {
   "cell_type": "markdown",
   "id": "f2770d0c-1aa1-48b5-ad8d-e6f389610f5f",
   "metadata": {},
   "source": [
    "# Ques 3: For the above created list print the last element."
   ]
  },
  {
   "cell_type": "markdown",
   "id": "0748d8a3-f1cb-4ded-9015-8f20ccac50d3",
   "metadata": {},
   "source": [
    "Answer:"
   ]
  },
  {
   "cell_type": "code",
   "execution_count": 9,
   "id": "0cc2a9c5-f780-4dc8-9fbd-aa95a2a3e2c7",
   "metadata": {},
   "outputs": [
    {
     "data": {
      "text/plain": [
       "45"
      ]
     },
     "execution_count": 9,
     "metadata": {},
     "output_type": "execute_result"
    }
   ],
   "source": [
    "list[4]"
   ]
  },
  {
   "cell_type": "markdown",
   "id": "276b2a5f-a6cf-4864-a122-b9195d0d631e",
   "metadata": {},
   "source": [
    "# Ques 4: Reverse the above created list."
   ]
  },
  {
   "cell_type": "markdown",
   "id": "04806e5e-a866-4e8e-8833-d4887075708c",
   "metadata": {},
   "source": [
    "Answer:"
   ]
  },
  {
   "cell_type": "code",
   "execution_count": 10,
   "id": "e8d40de2-80fb-4dab-9931-83cedc709c09",
   "metadata": {},
   "outputs": [
    {
     "data": {
      "text/plain": [
       "[45, 78, 4, 3, 2]"
      ]
     },
     "execution_count": 10,
     "metadata": {},
     "output_type": "execute_result"
    }
   ],
   "source": [
    "list[: : -1]"
   ]
  },
  {
   "cell_type": "markdown",
   "id": "b2b7d7d6-7667-4709-b8ec-a8841bcd6155",
   "metadata": {},
   "source": [
    "# Ques 5: Sort above created list."
   ]
  },
  {
   "cell_type": "markdown",
   "id": "da57ee40-ae34-45c8-b873-3e623fa14c38",
   "metadata": {},
   "source": [
    "Answer:"
   ]
  },
  {
   "cell_type": "code",
   "execution_count": 11,
   "id": "a96a624b-2ee8-46ea-92e9-fd880525162d",
   "metadata": {},
   "outputs": [],
   "source": [
    "list.sort()"
   ]
  },
  {
   "cell_type": "code",
   "execution_count": 12,
   "id": "50034149-f9bb-4750-83c8-403af13ae616",
   "metadata": {},
   "outputs": [
    {
     "data": {
      "text/plain": [
       "[2, 3, 4, 45, 78]"
      ]
     },
     "execution_count": 12,
     "metadata": {},
     "output_type": "execute_result"
    }
   ],
   "source": [
    "list"
   ]
  },
  {
   "cell_type": "markdown",
   "id": "c210340b-a6f6-409d-9fa5-9df10bdd02f6",
   "metadata": {},
   "source": [
    "# Ques 6:Create a list of top 3 favorite movies, then print the second movie title."
   ]
  },
  {
   "cell_type": "markdown",
   "id": "7189dda8-3d95-4fc0-8ce4-50d90392f813",
   "metadata": {},
   "source": [
    "Answer"
   ]
  },
  {
   "cell_type": "code",
   "execution_count": 15,
   "id": "83de74ae-9861-4105-87e0-8615094bcda8",
   "metadata": {},
   "outputs": [],
   "source": [
    "movies=['PK','Titanic','Avengers']"
   ]
  },
  {
   "cell_type": "code",
   "execution_count": 16,
   "id": "d210c735-6c93-4acd-86c5-d85c73487ef1",
   "metadata": {},
   "outputs": [
    {
     "data": {
      "text/plain": [
       "['PK', 'Titanic', 'Avengers']"
      ]
     },
     "execution_count": 16,
     "metadata": {},
     "output_type": "execute_result"
    }
   ],
   "source": [
    "movies"
   ]
  },
  {
   "cell_type": "code",
   "execution_count": 17,
   "id": "8768082c-4225-4e27-a073-3321786eab6f",
   "metadata": {},
   "outputs": [
    {
     "data": {
      "text/plain": [
       "'Titanic'"
      ]
     },
     "execution_count": 17,
     "metadata": {},
     "output_type": "execute_result"
    }
   ],
   "source": [
    "movies[1]"
   ]
  },
  {
   "cell_type": "markdown",
   "id": "e48dab17-93f5-42cb-9bb8-f80cd5be95a5",
   "metadata": {},
   "source": [
    "# Ques 7: Create a list of your favorite animals, then add a new animal to the list and print the updated list."
   ]
  },
  {
   "cell_type": "markdown",
   "id": "dc548dcd-e8da-41df-ba4d-1aa99b978141",
   "metadata": {},
   "source": [
    "Answer:"
   ]
  },
  {
   "cell_type": "code",
   "execution_count": 18,
   "id": "d228a50a-a79b-425a-b735-918ae2e209bb",
   "metadata": {},
   "outputs": [],
   "source": [
    "animals=['Dog','Cat','Fish','Rabbit']"
   ]
  },
  {
   "cell_type": "code",
   "execution_count": 19,
   "id": "a58fdec2-a2c6-4c5a-adb4-e89c7ebb3a06",
   "metadata": {},
   "outputs": [
    {
     "data": {
      "text/plain": [
       "['Dog', 'Cat', 'Fish', 'Rabbit']"
      ]
     },
     "execution_count": 19,
     "metadata": {},
     "output_type": "execute_result"
    }
   ],
   "source": [
    "animals"
   ]
  },
  {
   "cell_type": "code",
   "execution_count": 20,
   "id": "3c00b4e2-96b1-49da-89aa-62ea07db703e",
   "metadata": {},
   "outputs": [],
   "source": [
    "animals.append('Cow')"
   ]
  },
  {
   "cell_type": "code",
   "execution_count": 21,
   "id": "64c65941-4aa1-43ea-8374-f7e06372672b",
   "metadata": {},
   "outputs": [
    {
     "data": {
      "text/plain": [
       "['Dog', 'Cat', 'Fish', 'Rabbit', 'Cow']"
      ]
     },
     "execution_count": 21,
     "metadata": {},
     "output_type": "execute_result"
    }
   ],
   "source": [
    "animals"
   ]
  },
  {
   "cell_type": "markdown",
   "id": "435a48be-c2df-42fd-9f0e-c05cd948f364",
   "metadata": {},
   "source": [
    "# Ques 8: Create a list of your favorite cities, then use the index() method find the position of a specific city on the list and print it. "
   ]
  },
  {
   "cell_type": "markdown",
   "id": "da4e2dce-71e2-4c75-8311-04670235317b",
   "metadata": {},
   "source": [
    "Answer:"
   ]
  },
  {
   "cell_type": "code",
   "execution_count": 22,
   "id": "2b0036f0-35dd-4a4e-b184-a8574cdb2162",
   "metadata": {},
   "outputs": [],
   "source": [
    "cities=['Morena','Gwalior','Agra','Jaipur']"
   ]
  },
  {
   "cell_type": "code",
   "execution_count": 23,
   "id": "41eaffce-593b-4250-b164-38bf22ed3e5f",
   "metadata": {},
   "outputs": [
    {
     "data": {
      "text/plain": [
       "['Morena', 'Gwalior', 'Agra', 'Jaipur']"
      ]
     },
     "execution_count": 23,
     "metadata": {},
     "output_type": "execute_result"
    }
   ],
   "source": [
    "cities"
   ]
  },
  {
   "cell_type": "code",
   "execution_count": 24,
   "id": "fa2170f2-97f7-45e5-ae71-ae9ecec8d4a3",
   "metadata": {},
   "outputs": [
    {
     "data": {
      "text/plain": [
       "3"
      ]
     },
     "execution_count": 24,
     "metadata": {},
     "output_type": "execute_result"
    }
   ],
   "source": [
    "cities.index('Jaipur')"
   ]
  },
  {
   "cell_type": "code",
   "execution_count": 25,
   "id": "d789fe69-d388-4d96-b6b4-80bcca985947",
   "metadata": {},
   "outputs": [
    {
     "data": {
      "text/plain": [
       "0"
      ]
     },
     "execution_count": 25,
     "metadata": {},
     "output_type": "execute_result"
    }
   ],
   "source": [
    "cities.index('Morena')"
   ]
  },
  {
   "cell_type": "code",
   "execution_count": null,
   "id": "5512a7c1-96aa-4f7f-9c1b-5a3a9b02c40c",
   "metadata": {},
   "outputs": [],
   "source": []
  }
 ],
 "metadata": {
  "kernelspec": {
   "display_name": "Python 3 (ipykernel)",
   "language": "python",
   "name": "python3"
  },
  "language_info": {
   "codemirror_mode": {
    "name": "ipython",
    "version": 3
   },
   "file_extension": ".py",
   "mimetype": "text/x-python",
   "name": "python",
   "nbconvert_exporter": "python",
   "pygments_lexer": "ipython3",
   "version": "3.10.8"
  }
 },
 "nbformat": 4,
 "nbformat_minor": 5
}
